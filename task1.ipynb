{
 "cells": [
  {
   "cell_type": "markdown",
   "id": "bbd6a492",
   "metadata": {},
   "source": [
    "Task 1: Mischievous Text Transformer (Basic Python)\n",
    "Imagine you are building a playful text-transformer. Given an input paragraph, your\n",
    "function should apply creative transformation rules, such as:\n",
    "● Redacting information (e.g., replacing all phone numbers with [REDACTED]).\n",
    "● Stylizing text (e.g., converting all dates into words: 2025-08-23 → 23rd August 2025).\n",
    "● Inserting Easter eggs (e.g., every time the word \"Python\" appears, change it to\n",
    "🐍).\n",
    "Write a Python function transform_text(input_text: str) -> str that applies at least 3\n",
    "transformations of your choice. You can invent your own rules (serious or funny).\n",
    "Example:\n",
    "Input:\n",
    "“Call me at 98123-45678 on 2025-08-23.\n",
    "I love Python more than Java.”\n",
    "\n",
    "Output:\n",
    "“Call me at [REDACTED] on 23rd August 2025.\n",
    "I love 🐍 more than Java.”\n",
    "NOTE: There is no single solution to this. All we care about is your creativity and your\n",
    "approach to solving the problem"
   ]
  },
  {
   "cell_type": "code",
   "execution_count": null,
   "id": "9f59c943",
   "metadata": {},
   "outputs": [],
   "source": [
    "#Credit/Debit Card/ID : Hide\n",
    "#Currency : convert to inr\n",
    "#Words : emojis\n",
    "#Units : Pounds --> Kg, Miles --> Km, Ounces --> Liters"
   ]
  },
  {
   "cell_type": "code",
   "execution_count": 58,
   "id": "ae9056d5",
   "metadata": {},
   "outputs": [],
   "source": [
    "def text_transformer(text):\n",
    "    words = text.strip().split(\" \")\n",
    "    indx = 0\n",
    "    currency = {\"usd\":87.65,\n",
    "            \"gbp\":118.20,\n",
    "            \"jpy\":0.59}\n",
    "    for word in words:\n",
    "        whole_word = word.lower().split(\".\")\n",
    "        word = whole_word[0]\n",
    "        if word.find(\"-\")!=-1:\n",
    "            num = 0\n",
    "            split_word = word.split(\"-\")\n",
    "            if len(split_word) == 2:\n",
    "                for i in split_word:\n",
    "                    if i.isnumeric():\n",
    "                        num += len(i)\n",
    "                    else:\n",
    "                        num = 0\n",
    "                        break\n",
    "                if num == 10:\n",
    "                    words[indx] = \"[REDACTED]\"\n",
    "\n",
    "            elif len(split_word) == 4:\n",
    "                for i in split_word:\n",
    "                    if i.isnumeric():\n",
    "                        num += len(i)\n",
    "                    else:\n",
    "                        num = 0\n",
    "                        break\n",
    "                if num == 16:\n",
    "                    words[indx] = \"[Sensitive]\"\n",
    "\n",
    "        elif word.find(\"lb\") != -1:\n",
    "            if len(word)>2 and word[:-2].isnumeric() != -1:\n",
    "                words[indx] = str(round(float(word[:-2])/ 2.205,3)) + \"kg\"\n",
    "            elif words[indx-1].isnumeric() != -1:\n",
    "                words[indx-1] = str(round(float(words[indx-1])/ 2.205,3))\n",
    "                words[indx] = \"kg\"\n",
    "\n",
    "        elif word.find(\"mi\") != -1:\n",
    "            if len(word)>2 and word[:-2].isnumeric() != -1:\n",
    "                words[indx] = str(round(float(word[:-2])*1.609,3)) + \"km\"\n",
    "            elif words[indx-1].isnumeric() != -1:\n",
    "                words[indx-1] = str(round(float(words[indx-1])*1.609,3))\n",
    "                words[indx] = \"km\"\n",
    "\n",
    "        elif word.find(\"oz\") != -1:\n",
    "            if len(word)>2 and word[:-2].isnumeric() != -1:\n",
    "                words[indx] = str(round(float(word[:-2])/33.814,3)) + \"L\"\n",
    "            elif words[indx-1].isnumeric() != -1:\n",
    "                words[indx-1] = str(round(float(words[indx-1])/33.814, 3))\n",
    "                words[indx] = \"L\"\n",
    "            \n",
    "        elif word.find(\"lol\") !=-1:\n",
    "            words[indx] = \"😆\"\n",
    "        \n",
    "        elif word.find(\"lmao\") != -1:\n",
    "            words[indx] = \"💀\"\n",
    "\n",
    "        elif word in currency.keys():\n",
    "            if word.find(word) != -1:\n",
    "                words[indx-1] = str(round(float(words[indx-1])*currency[word],3))\n",
    "                words[indx] = \"INR\"\n",
    "        \n",
    "        if len(whole_word) > 1:\n",
    "            words[indx] += \".\"\n",
    "\n",
    "\n",
    "        indx += 1\n",
    "    return \" \".join(words)"
   ]
  },
  {
   "cell_type": "code",
   "execution_count": 59,
   "id": "77d1f3d7",
   "metadata": {},
   "outputs": [
    {
     "name": "stdout",
     "output_type": "stream",
     "text": [
      "Call me at [REDACTED] about card [Sensitive]. I weigh 68.027kg and ran 8.045km while drinking 0.473L of water 😆. The book cost 10 usd, 591.0 INR and 590.0 INR 💀.\n"
     ]
    }
   ],
   "source": [
    "print(text_transformer(\"Call me at 98123-45678 about card 1234-5678-9012-3456. I weigh 150lb and ran 5mi while drinking 16oz of water lol. The book cost 10 usd, 5 gbp and 1000 jpy lmao.\"))"
   ]
  },
  {
   "cell_type": "code",
   "execution_count": null,
   "id": "701acf17",
   "metadata": {},
   "outputs": [],
   "source": []
  }
 ],
 "metadata": {
  "kernelspec": {
   "display_name": "Python 3",
   "language": "python",
   "name": "python3"
  },
  "language_info": {
   "codemirror_mode": {
    "name": "ipython",
    "version": 3
   },
   "file_extension": ".py",
   "mimetype": "text/x-python",
   "name": "python",
   "nbconvert_exporter": "python",
   "pygments_lexer": "ipython3",
   "version": "3.13.7"
  }
 },
 "nbformat": 4,
 "nbformat_minor": 5
}
